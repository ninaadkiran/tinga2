{
 "cells": [
  {
   "cell_type": "markdown",
   "metadata": {},
   "source": [
    "---\n",
    "comments: false\n",
    "layout: post\n",
    "title: CPT Project\n",
    "description: Binary turning to colors\n",
    "type: hacks\n",
    "courses: { compsci: {week: 7} }\n",
    "---"
   ]
  },
  {
   "cell_type": "markdown",
   "metadata": {},
   "source": [
    "<!DOCTYPE html>\n",
    "<html lang=\"en\">\n",
    "<head>\n",
    "    <meta charset=\"UTF-8\">\n",
    "    <meta name=\"viewport\" content=\"width=device-width, initial-scale=1.0\">\n",
    "    <title>RGB Color Picker</title>\n",
    "    <style>\n",
    "        body {\n",
    "            font-family: Arial, sans-serif;\n",
    "            text-align: center;\n",
    "            margin-top: 50px;\n",
    "        }\n",
    "\n",
    "        #color-display {\n",
    "            width: 200px;\n",
    "            height: 200px;\n",
    "            border: 1px solid #000;\n",
    "            margin: 20px auto;\n",
    "        }\n",
    "\n",
    "        input {\n",
    "            width: 60px;\n",
    "            text-align: center;\n",
    "        }\n",
    "    </style>\n",
    "</head>\n",
    "<body>\n",
    "    <h1>RGB Color Picker</h1>\n",
    "    <label for=\"red\">Red:</label>\n",
    "    <input type=\"number\" id=\"red\" min=\"0\" max=\"255\" value=\"0\">\n",
    "    <br>\n",
    "    <label for=\"green\">Green:</label>\n",
    "    <input type=\"number\" id=\"green\" min=\"0\" max=\"255\" value=\"0\">\n",
    "    <br>\n",
    "    <label for=\"blue\">Blue:</label>\n",
    "    <input type=\"number\" id=\"blue\" min=\"0\" max=\"255\" value=\"0\">\n",
    "    <br>\n",
    "    <button onclick=\"updateColor()\">Show Color</button>\n",
    "    <div id=\"color-display\"></div>\n",
    "\n",
    "    <script>\n",
    "        function updateColor() {\n",
    "            const red = document.getElementById('red').value;\n",
    "            const green = document.getElementById('green').value;\n",
    "            const blue = document.getElementById('blue').value;\n",
    "\n",
    "            const colorDisplay = document.getElementById('color-display');\n",
    "            colorDisplay.style.backgroundColor = `rgb(${red}, ${green}, ${blue})`;\n",
    "        }\n",
    "    </script>\n",
    "</body>\n",
    "</html>\n"
   ]
  }
 ],
 "metadata": {
  "language_info": {
   "name": "python"
  }
 },
 "nbformat": 4,
 "nbformat_minor": 2
}
